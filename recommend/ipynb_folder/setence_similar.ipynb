{
 "cells": [
  {
   "cell_type": "markdown",
   "metadata": {},
   "source": [
    "# 한번 문장 유사도 기준으로 뽑아보자!\n",
    "* 문장 임베딩 미리 학습된거로 하는게 조을듯\n",
    "  * 못함 ㅠㅠ\n",
    "* countvectorzier 그냥 개수만 셈"
   ]
  },
  {
   "cell_type": "code",
   "execution_count": 1,
   "metadata": {},
   "outputs": [],
   "source": [
    "# 필요 모듈 임포트\n",
    "from sklearn.feature_extraction.text import CountVectorizer\n",
    "from sklearn.feature_extraction.text import TfidfVectorizer\n",
    "\n",
    "import pandas as pd\n",
    "import pandas.io.sql as sqlio\n",
    "import psycopg\n",
    "import numpy as np"
   ]
  },
  {
   "cell_type": "code",
   "execution_count": 2,
   "metadata": {},
   "outputs": [
    {
     "name": "stderr",
     "output_type": "stream",
     "text": [
      "C:\\Users\\SSAFY\\AppData\\Local\\Temp\\ipykernel_6508\\4174560127.py:5: UserWarning: pandas only supports SQLAlchemy connectable (engine/connection) or database string URI or sqlite3 DBAPI2 connection. Other DBAPI2 objects are not tested. Please consider using SQLAlchemy.\n",
      "  beers = sqlio.read_sql_query(sql, conn)\n"
     ]
    }
   ],
   "source": [
    "# db에 있는거 바로 dataframe으로 바꿈\n",
    "conn = psycopg.connect(host=\"sulleong.site\", dbname=\"sulleong\", user=\"sulleong\", password=\"###\", port=5432)\n",
    "sql = \"SELECT * FROM beer WHERE description IS NOT NULL;\"\n",
    "# sql = \"select * from beer_merge_test;\"\n",
    "beers = sqlio.read_sql_query(sql, conn)\n",
    "beers = beers.set_index('id')"
   ]
  },
  {
   "cell_type": "code",
   "execution_count": 3,
   "metadata": {},
   "outputs": [
    {
     "data": {
      "text/plain": [
       "(1451, 9311)"
      ]
     },
     "execution_count": 3,
     "metadata": {},
     "output_type": "execute_result"
    }
   ],
   "source": [
    "from sklearn.metrics.pairwise import cosine_similarity\n",
    "\n",
    "count_vect = CountVectorizer(stop_words='english')\n",
    "matrix = count_vect.fit_transform(beers['description'])\n",
    "matrix.shape"
   ]
  },
  {
   "cell_type": "code",
   "execution_count": 4,
   "metadata": {},
   "outputs": [],
   "source": [
    "# 코사인 유사도 계산\n",
    "cosine_similar = cosine_similarity(matrix, matrix)"
   ]
  },
  {
   "cell_type": "code",
   "execution_count": 5,
   "metadata": {},
   "outputs": [],
   "source": [
    "# index랑 원본 beer_id랑 달라서 idx 딕셔너리 새로 팜\n",
    "idx = dict(zip(range(len(beers)), beers.index))"
   ]
  },
  {
   "cell_type": "code",
   "execution_count": 11,
   "metadata": {},
   "outputs": [],
   "source": [
    "sentence_sim = []\n",
    "for i in range(len(cosine_similar)):\n",
    "    # index도 붙여줘야 하니까 enumerate 리스트 만듬\n",
    "    similar_list = list(enumerate(cosine_similar[i]))\n",
    "    similar_list = sorted(similar_list, key=lambda x:x[1], reverse=True)\n",
    "    for j in range(1, 10):\n",
    "        sentence_sim.append([idx[i], idx[similar_list[j][0]], similar_list[j][1]])\n",
    "result_df = pd.DataFrame(sentence_sim, columns=[\"beer\", \"rec_beer\", \"distance\"])\n",
    "result_df.to_csv('./sentenc_sim.csv')"
   ]
  },
  {
   "cell_type": "markdown",
   "metadata": {},
   "source": [
    "## 사전학습 모델 가져와서 문장 임베딩 하는것은 나중에 해봐야 할듯;;;\n",
    "* 다른 모듈 가져와 쓰기는 조금 무거움"
   ]
  },
  {
   "cell_type": "code",
   "execution_count": null,
   "metadata": {},
   "outputs": [],
   "source": [
    "# bert 사전학습 모델 가져옴\n",
    "# import torch\n",
    "# from pytorch_pretrained_bert import BertTokenizer, BertModel, BertForMaskedLM\n",
    "\n",
    "# tokenizer = BertTokenizer.from_pretrained('bert-base-uncased')\n",
    "\n",
    "# for i in beers['description'][:5]:\n",
    "#     marked_text = \"[CLS]\" + i + \"[SEP]\"\n",
    "\n",
    "#     tokenized_text = tokenizer.tokenize(marked_text)\n",
    "#     print(tokenized_text)"
   ]
  }
 ],
 "metadata": {
  "kernelspec": {
   "display_name": "venv",
   "language": "python",
   "name": "python3"
  },
  "language_info": {
   "codemirror_mode": {
    "name": "ipython",
    "version": 3
   },
   "file_extension": ".py",
   "mimetype": "text/x-python",
   "name": "python",
   "nbconvert_exporter": "python",
   "pygments_lexer": "ipython3",
   "version": "3.9.13"
  },
  "orig_nbformat": 4
 },
 "nbformat": 4,
 "nbformat_minor": 2
}
