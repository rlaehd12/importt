{
 "cells": [
  {
   "cell_type": "markdown",
   "metadata": {},
   "source": [
    "# surprise 모듈 작동 확인"
   ]
  },
  {
   "cell_type": "code",
   "execution_count": 1,
   "metadata": {},
   "outputs": [],
   "source": [
    "import pandas as pd\n",
    "import pandas.io.sql as sqlio\n",
    "import psycopg\n",
    "import numpy as np"
   ]
  },
  {
   "cell_type": "markdown",
   "metadata": {},
   "source": [
    "# surprise 모듈 이용 데이터 추천\n",
    "* 후보들이 뽑히면 그 데이터들을 가져와서 mf 실행\n",
    "* 예측 rating 값이 높은 몇가지를 추천\n",
    "* surprise 패키지 예측 못하면 그냥 평균정도 때리는듯"
   ]
  },
  {
   "cell_type": "code",
   "execution_count": 2,
   "metadata": {},
   "outputs": [
    {
     "name": "stderr",
     "output_type": "stream",
     "text": [
      "C:\\Users\\SSAFY\\AppData\\Local\\Temp\\ipykernel_4216\\1738570365.py:4: UserWarning: pandas only supports SQLAlchemy connectable (engine/connection) or database string URI or sqlite3 DBAPI2 connection. Other DBAPI2 objects are not tested. Please consider using SQLAlchemy.\n",
      "  reviews = sqlio.read_sql_query(sql, conn)\n"
     ]
    }
   ],
   "source": [
    "# db에 있는거 바로 dataframe으로 바꿈\n",
    "conn = psycopg.connect(host=\"sulleong.site\", dbname=\"sulleong\", user=\"sulleong\", password=\"###\", port=5432)\n",
    "sql = \"SELECT * FROM review WHERE beer_id in (176, 161, 1432);\"  # WHERE country IS NOT NULL;\n",
    "reviews = sqlio.read_sql_query(sql, conn)\n",
    "# reviews = beers.set_index('id')"
   ]
  },
  {
   "cell_type": "markdown",
   "metadata": {},
   "source": [
    "### surprise 패키지에서 dataset은 아이디, 아이템 아이디, 평점 순서로 해야됨"
   ]
  },
  {
   "cell_type": "code",
   "execution_count": 3,
   "metadata": {},
   "outputs": [],
   "source": [
    "ratings = reviews[['member_id', 'beer_id','overall']]"
   ]
  },
  {
   "cell_type": "code",
   "execution_count": 4,
   "metadata": {},
   "outputs": [],
   "source": [
    "from surprise import Reader, Dataset, KNNBasic, SVD, accuracy, BaselineOnly\n",
    "\n",
    "# surprise에서 쓸수 있도록 데이터 변환 작업\n",
    "reader = Reader(rating_scale=(1, 20))\n",
    "data = Dataset.load_from_df(ratings, reader)\n",
    "\n",
    "# 모델 parameter 지정, 유사도 함수 설정\n",
    "sim_options = {\n",
    "    'name': 'pearson', # msd, cosine, pearson 있음, 자세한건 surprise 문서 참조\n",
    "    'user_based': False, # user를 base로 할것인지 item을 base로 할 것인지 결정.\n",
    "}\n",
    "\n",
    "# 최종 모델\n",
    "\n",
    "bsl_options = {\n",
    "    \"method\": \"als\",\n",
    "    \"learning_rate\": 0.05,\n",
    "    \"n_epochs\": 1000\n",
    "}\n",
    "\n",
    "# algo = KNNBasic(k=3, sim_options=sim_options)\n",
    "# algo = SVD()\n",
    "algo = BaselineOnly(bsl_options=bsl_options)\n"
   ]
  },
  {
   "cell_type": "code",
   "execution_count": 5,
   "metadata": {},
   "outputs": [
    {
     "name": "stdout",
     "output_type": "stream",
     "text": [
      "Estimating biases using als...\n"
     ]
    },
    {
     "data": {
      "text/plain": [
       "<surprise.prediction_algorithms.baseline_only.BaselineOnly at 0x25eaf3d26d0>"
      ]
     },
     "execution_count": 5,
     "metadata": {},
     "output_type": "execute_result"
    }
   ],
   "source": [
    "from surprise.model_selection import train_test_split, cross_validate\n",
    "\n",
    "# 데이터 형태 안바꾸면 계산도 못하게함;;\n",
    "trainset = data.build_full_trainset()\n",
    "t, test = train_test_split(data, test_size=0.9)\n",
    "\n",
    "\n",
    "algo.fit(trainset)"
   ]
  },
  {
   "cell_type": "markdown",
   "metadata": {},
   "source": [
    "### 정확도 함 측정하라 했으니까 측정...\n",
    "* 테스트할 데이터가 train 데이터에 포함되어있긴 한데 그냥함"
   ]
  },
  {
   "cell_type": "code",
   "execution_count": 6,
   "metadata": {},
   "outputs": [],
   "source": [
    "from surprise import accuracy\n",
    "\n",
    "pr = algo.test(test)\n",
    "print(accuracy.rmse(pr))\n",
    "print(accuracy.mae(pr))"
   ]
  },
  {
   "cell_type": "code",
   "execution_count": 11,
   "metadata": {},
   "outputs": [
    {
     "name": "stdout",
     "output_type": "stream",
     "text": [
      "user: 10004862   item: 2          r_ui = None   est = 15.43   {'was_impossible': False}\n",
      "user: 10004862   item: 161        r_ui = None   est = 13.25   {'was_impossible': False}\n",
      "user: 10004862   item: 1432       r_ui = None   est = 16.53   {'was_impossible': False}\n"
     ]
    }
   ],
   "source": [
    "\n",
    "print(algo.predict(uid=10004862, iid=2))\n",
    "print(algo.predict(uid=10004862, iid=161))\n",
    "print(algo.predict(uid=10004862, iid=1432))"
   ]
  },
  {
   "cell_type": "code",
   "execution_count": 9,
   "metadata": {},
   "outputs": [
    {
     "name": "stdout",
     "output_type": "stream",
     "text": [
      "afd (1, 2, 3, 4)\n"
     ]
    }
   ],
   "source": [
    "a =[1,2,3,4]\n",
    "print(f'afd ({str(a)[1:-1]})')"
   ]
  }
 ],
 "metadata": {
  "kernelspec": {
   "display_name": "Python 3",
   "language": "python",
   "name": "python3"
  },
  "language_info": {
   "codemirror_mode": {
    "name": "ipython",
    "version": 3
   },
   "file_extension": ".py",
   "mimetype": "text/x-python",
   "name": "python",
   "nbconvert_exporter": "python",
   "pygments_lexer": "ipython3",
   "version": "3.9.13"
  },
  "orig_nbformat": 4
 },
 "nbformat": 4,
 "nbformat_minor": 2
}
