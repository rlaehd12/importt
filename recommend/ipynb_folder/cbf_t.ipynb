{
 "cells": [
  {
   "cell_type": "markdown",
   "metadata": {},
   "source": [
    "# 컨텐츠 기반 추천 시스템 구현\n",
    "\n",
    "* id, 도수, 모양, 향, 나라, 맛, 대분류, 입넘김, 소분류 데이터 사용하면 될듯\n",
    "* 지금 시간 지나서 좀 바뀌었는데 뭐 알아서 하겠지"
   ]
  },
  {
   "cell_type": "code",
   "execution_count": null,
   "metadata": {},
   "outputs": [],
   "source": [
    "import pandas as pd\n",
    "import pandas.io.sql as sqlio\n",
    "import psycopg\n",
    "import numpy as np"
   ]
  },
  {
   "cell_type": "code",
   "execution_count": null,
   "metadata": {},
   "outputs": [],
   "source": [
    "# db에 있는거 바로 dataframe으로 바꿈\n",
    "conn = psycopg.connect(host=\"sulleong.site\", dbname=\"sulleong\", user=\"sulleong\", password=\"###\", port=5432)\n",
    "sql = \"SELECT * FROM beer WHERE country IS NOT NULL;\"\n",
    "# sql = \"select * from beer_merge_test;\"\n",
    "beers = sqlio.read_sql_query(sql, conn)\n",
    "beers = beers.set_index('id')"
   ]
  },
  {
   "cell_type": "markdown",
   "metadata": {},
   "source": [
    "## 전처리....."
   ]
  },
  {
   "cell_type": "code",
   "execution_count": null,
   "metadata": {},
   "outputs": [],
   "source": [
    "# drop table column\n",
    "beers = beers.drop(columns=['description', 'name', 'name_kor'])\n",
    "\n",
    "# nan값들을 0으로 바꿈, 단 abv는 않건드림\n",
    "beers['appearance'].fillna(0, inplace=True)\n",
    "beers['aroma'].fillna(0, inplace=True)\n",
    "beers['flavor'].fillna(0, inplace=True)\n",
    "beers['mouthfeel'].fillna(0, inplace=True)\n",
    "beers['overall'].fillna(0, inplace=True)\n",
    "beers['brewer_id'] = beers['brewer_id'].astype(str)\n"
   ]
  },
  {
   "cell_type": "code",
   "execution_count": null,
   "metadata": {},
   "outputs": [],
   "source": [
    "# 저거 그냥 합이라 나눠줘야 함.... 나중에 스케일링도 또 해야할듯 ㅠㅠ\n",
    "beers['appearance'] = beers.apply(lambda row: round(row['appearance'] / row['review_count'], 1) if row['review_count'] != 0 else row['appearance'], axis=1)\n",
    "beers['aroma'] = beers.apply(lambda row: round(row['aroma'] / row['review_count'], 1) if row['review_count'] != 0 else row['aroma'], axis=1)\n",
    "beers['flavor'] = beers.apply(lambda row: round(row['flavor'] / row['review_count'], 1) if row['review_count'] != 0 else row['flavor'], axis=1)\n",
    "beers['mouthfeel'] = beers.apply(lambda row: round(row['mouthfeel'] / row['review_count'], 1) if row['review_count'] != 0 else row['mouthfeel'], axis=1)\n",
    "beers['overall'] = beers.apply(lambda row: round(row['overall'] / row['review_count'], 1) if row['review_count'] != 0 else row['overall'], axis=1)"
   ]
  },
  {
   "cell_type": "markdown",
   "metadata": {},
   "source": [
    "* 이제 문자 데이터는 OneHotEncoder 통해 행렬화 시켜서 보여줌\n",
    "  * 범주형 데이터이기 때문에 CountVectorizer대신 이거 사용"
   ]
  },
  {
   "cell_type": "code",
   "execution_count": null,
   "metadata": {},
   "outputs": [],
   "source": [
    "from sklearn.preprocessing import OneHotEncoder\n",
    "\n",
    "# encoder 설정, 바로 행렬에 붙일거라, 근데 데이터 바뀌어서 비어있는 곳이 있음;; 그래도 sparsematrix 안씀\n",
    "encoder = OneHotEncoder(sparse_output=False)\n",
    "\n",
    "# 숫자형 데이터\n",
    "numeric_data = beers.drop(columns=['large_category', 'sub_category', 'country', 'brewer_id'])\n",
    "\n",
    "# 범주형 데이터 맞추고 변환\n",
    "encoder.fit(beers[['large_category', 'sub_category', 'country', 'brewer_id']])\n",
    "encoding_beer = encoder.transform(beers[['large_category', 'sub_category', 'country', 'brewer_id']])\n",
    "# # 다시 pandas 데이터프레임으로 변환해서 붙일수 있도록 만듬\n",
    "encoded_categories_beer = pd.DataFrame(encoding_beer, columns=encoder.get_feature_names_out(input_features=['large_category', 'sub_category', 'country', 'brewer_id']), index=beers.index)\n",
    "# print(processed_beer_notscaled)\n",
    "processed_beer_notscaled = pd.concat([numeric_data, encoded_categories_beer], axis=1)"
   ]
  },
  {
   "cell_type": "markdown",
   "metadata": {},
   "source": [
    "* 이제 모든 숫자들 0에서 1사이로 스케일링 함?\n",
    "  * 일단 그냥 계산해보고 비교해봐야 할듯"
   ]
  },
  {
   "cell_type": "code",
   "execution_count": null,
   "metadata": {},
   "outputs": [],
   "source": [
    "from sklearn.impute import SimpleImputer\n",
    "# null값 처리해야 할듯;;; 그냥 평균값 넣음\n",
    "imp = SimpleImputer(missing_values=np.nan, strategy='mean')\n",
    "imp.fit(processed_beer_notscaled['abv'].values.reshape(-1, 1))\n",
    "processed_beer_notscaled['abv'] = imp.transform(processed_beer_notscaled['abv'].values.reshape(-1, 1))"
   ]
  },
  {
   "cell_type": "code",
   "execution_count": null,
   "metadata": {},
   "outputs": [],
   "source": [
    "processed_beer_notscaled = processed_beer_notscaled.drop(columns=['class_name'])"
   ]
  },
  {
   "cell_type": "markdown",
   "metadata": {},
   "source": [
    "## 이제 계산..."
   ]
  },
  {
   "cell_type": "code",
   "execution_count": null,
   "metadata": {},
   "outputs": [],
   "source": [
    "from sklearn.neighbors import NearestNeighbors\n",
    "\n",
    "# 일단 10개의 가장 가까운 이웃들을 찾음, 식들은 차차 변경 예정\n",
    "nbrs = NearestNeighbors(n_neighbors=10).fit(processed_beer_notscaled)\n",
    "distances, indices = nbrs.kneighbors(processed_beer_notscaled)\n",
    "\n",
    "\n",
    "# df = pd.DataFrame(indices, index=beers.index)\n",
    "# df_d = pd.DataFrame(distances)\n",
    " \n",
    "# df.to_csv('./sample_recommend.csv')"
   ]
  },
  {
   "cell_type": "code",
   "execution_count": null,
   "metadata": {},
   "outputs": [],
   "source": [
    "# indicies는 pandas 기본 index로 줘서 우리 index로 바꿔줄 필요가 있음\n",
    "index_mapping = dict(zip(range(len(beers.index)), beers.index))\n",
    "custom_indices = np.vectorize(index_mapping.get)(indices)"
   ]
  },
  {
   "cell_type": "code",
   "execution_count": null,
   "metadata": {},
   "outputs": [],
   "source": [
    "df = pd.DataFrame(custom_indices, index=beers.index)\n",
    "df_d = pd.DataFrame(distances, index=beers.index)"
   ]
  },
  {
   "cell_type": "code",
   "execution_count": null,
   "metadata": {},
   "outputs": [],
   "source": [
    "result = []\n",
    "for i in df.index:\n",
    "    for j in range(1, len(df.columns)):\n",
    "        result.append([i, df.loc[i, j], df_d.loc[i, j]])\n",
    "\n",
    "result_df = pd.DataFrame(result, columns=[\"beer\", \"rec_beer\", \"distance\"])\n",
    "result_df.to_csv('./cbf_result_1539.csv')"
   ]
  }
 ],
 "metadata": {
  "kernelspec": {
   "display_name": "venv",
   "language": "python",
   "name": "python3"
  },
  "language_info": {
   "codemirror_mode": {
    "name": "ipython",
    "version": 3
   },
   "file_extension": ".py",
   "mimetype": "text/x-python",
   "name": "python",
   "nbconvert_exporter": "python",
   "pygments_lexer": "ipython3",
   "version": "3.9.13"
  },
  "orig_nbformat": 4
 },
 "nbformat": 4,
 "nbformat_minor": 2
}
